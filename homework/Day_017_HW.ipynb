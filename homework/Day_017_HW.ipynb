{
 "cells": [
  {
   "cell_type": "code",
   "execution_count": 1,
   "metadata": {},
   "outputs": [
    {
     "name": "stdout",
     "output_type": "stream",
     "text": [
      "1.檢查文件檔案格式，其中以pkl讀取最快，xlsx讀取最慢\n",
      "2.檢查使用的函式，使用內建函式速度較快\n",
      "3.檢查資料欄位型態，視情況將欄位資料降級\n"
     ]
    }
   ],
   "source": [
    "# 1.在速度較慢的時候，可以先從哪邊開始檢查？\n",
    "print('1.檢查文件檔案格式，其中以pkl讀取最快，xlsx讀取最慢\\n2.檢查使用的函式，使用內建函式速度較快\\n3.檢查資料欄位型態，視情況將欄位資料降級')"
   ]
  },
  {
   "cell_type": "code",
   "execution_count": 2,
   "metadata": {},
   "outputs": [
    {
     "name": "stdout",
     "output_type": "stream",
     "text": [
      "將欄位的型態降級，不需要存太多元素在一個數字中，例如將整數型態 int 改成 uint 減少記憶體正用空間，將浮點數型態 float64 改成 float32 減少記憶體正用空間\n"
     ]
    }
   ],
   "source": [
    "# 2.資料過大時應採取什麼方式讓記憶體占用量下降？\n",
    "print('將欄位的型態降級，不需要存太多元素在一個數字中，例如將整數型態 int 改成 uint 減少記憶體正用空間，將浮點數型態 float64 改成 float32 減少記憶體正用空間')"
   ]
  },
  {
   "cell_type": "code",
   "execution_count": null,
   "metadata": {},
   "outputs": [],
   "source": []
  }
 ],
 "metadata": {
  "kernelspec": {
   "display_name": "Python 3",
   "language": "python",
   "name": "python3"
  },
  "language_info": {
   "codemirror_mode": {
    "name": "ipython",
    "version": 3
   },
   "file_extension": ".py",
   "mimetype": "text/x-python",
   "name": "python",
   "nbconvert_exporter": "python",
   "pygments_lexer": "ipython3",
   "version": "3.8.5"
  }
 },
 "nbformat": 4,
 "nbformat_minor": 4
}
