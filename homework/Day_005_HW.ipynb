{
 "cells": [
  {
   "cell_type": "markdown",
   "metadata": {
    "id": "oef8c2jr-PZY"
   },
   "source": [
    "作業目標<br>\n",
    "計算有缺失值的資料，統計量實作<br>\n",
    "作業重點<br>\n",
    "當遇到缺失值有函式可以處理，不須額外寫程式刪除<br>\n",
    "計算統計量時不能出現缺失值"
   ]
  },
  {
   "cell_type": "markdown",
   "metadata": {
    "id": "4YgL8NF4-Ru3"
   },
   "source": [
    "題目:<br>\n",
    "english_score = np.array([55,89,76,65,48,70])<br>\n",
    "math_score = np.array([60,85,60,68,np.nan,60])<br>\n",
    "chinese_score = np.array([65,90,82,72,66,77])<br>\n",
    "上3列共六位同學的英文、數學、國文成績，第一個元素代表第一位同學，舉例第一位同學英文55分、數學60分、國文65分，今天第五位同學因某原因沒來考試，導致數學成績缺值，運用上列數據回答下列問題。<br>\n",
    "1. 請計算各科成績平均、最大值、最小值、標準差，其中數學缺一筆資料可忽略?\n",
    "2. 第五位同學補考數學後成績為55，請計算補考後數學成績平均、最大值、最小值、標準差?\n",
    "3. 用補考後資料找出與國文成績相關係數最高的學科?"
   ]
  },
  {
   "cell_type": "code",
   "execution_count": 24,
   "metadata": {
    "executionInfo": {
     "elapsed": 617,
     "status": "ok",
     "timestamp": 1609854566856,
     "user": {
      "displayName": "献竤黃",
      "photoUrl": "",
      "userId": "07529243043474362942"
     },
     "user_tz": -480
    },
    "id": "QwsKU8qO-RK7"
   },
   "outputs": [],
   "source": [
    "import numpy as np"
   ]
  },
  {
   "cell_type": "code",
   "execution_count": 25,
   "metadata": {
    "executionInfo": {
     "elapsed": 1016,
     "status": "ok",
     "timestamp": 1609854567261,
     "user": {
      "displayName": "献竤黃",
      "photoUrl": "",
      "userId": "07529243043474362942"
     },
     "user_tz": -480
    },
    "id": "B5BqDQAe_czh"
   },
   "outputs": [],
   "source": [
    "english_score = np.array([55,89,76,65,48,70])\n",
    "math_score = np.array([60,85,60,68,np.nan,60])\n",
    "chinese_score = np.array([65,90,82,72,66,77])"
   ]
  },
  {
   "cell_type": "code",
   "execution_count": 26,
   "metadata": {
    "executionInfo": {
     "elapsed": 1005,
     "status": "ok",
     "timestamp": 1609854567262,
     "user": {
      "displayName": "献竤黃",
      "photoUrl": "",
      "userId": "07529243043474362942"
     },
     "user_tz": -480
    },
    "id": "K3tUA6u9aI3N"
   },
   "outputs": [
    {
     "name": "stdout",
     "output_type": "stream",
     "text": [
      "英文平均 = 67.16666666666667\n",
      "英文最大值 = 89\n",
      "英文最小值 = 48\n",
      "英文標準差 = 13.433995020924426\n"
     ]
    }
   ],
   "source": [
    "#1. 請計算各科成績平均、最大值、最小值、標準差，其中數學缺一筆資料可忽略?\n",
    "# 英文\n",
    "english_mean = np.mean(english_score)\n",
    "print(\"英文平均 =\", english_mean)\n",
    "english_max = np.nanmax(english_score)\n",
    "print(\"英文最大值 =\", english_max)\n",
    "english_min = np.nanmin(english_score)\n",
    "print(\"英文最小值 =\", english_min)\n",
    "english_std = np.std(english_score)\n",
    "print(\"英文標準差 =\", english_std)"
   ]
  },
  {
   "cell_type": "code",
   "execution_count": 27,
   "metadata": {},
   "outputs": [
    {
     "name": "stdout",
     "output_type": "stream",
     "text": [
      "數學平均 = 66.6\n",
      "數學最大值 = 85.0\n",
      "數學最小值 = 60.0\n",
      "數學標準差 = 9.707728879609279\n",
      "數學缺一筆資料，應在處理時使用有nan的發法，該方法會將缺失值忽略\n"
     ]
    }
   ],
   "source": [
    "# 數學\n",
    "math_mean = np.nanmean(math_score)\n",
    "print(\"數學平均 =\", math_mean)\n",
    "math_max = np.nanmax(math_score)\n",
    "print(\"數學最大值 =\", math_max)\n",
    "math_min = np.nanmin(math_score)\n",
    "print(\"數學最小值 =\", math_min)\n",
    "math_std = np.nanstd(math_score)\n",
    "print(\"數學標準差 =\", math_std)\n",
    "print(\"數學缺一筆資料，應在處理時使用有nan的發法，該方法會自動將缺失值忽略\")"
   ]
  },
  {
   "cell_type": "code",
   "execution_count": 28,
   "metadata": {},
   "outputs": [
    {
     "name": "stdout",
     "output_type": "stream",
     "text": [
      "國文平均 = 75.33333333333333\n",
      "國文最大值 = 90\n",
      "國文最小值 = 65\n",
      "國文標準差 = 8.825468196582484\n"
     ]
    }
   ],
   "source": [
    "# 國文\n",
    "chinese_mean = np.nanmean(chinese_score)\n",
    "print(\"國文平均 =\", chinese_mean)\n",
    "chinese_max = np.nanmax(chinese_score)\n",
    "print(\"國文最大值 =\", chinese_max)\n",
    "chinese_min = np.nanmin(chinese_score)\n",
    "print(\"國文最小值 =\", chinese_min)\n",
    "chinese_std = np.nanstd(chinese_score)\n",
    "print(\"國文標準差 =\", chinese_std)"
   ]
  },
  {
   "cell_type": "code",
   "execution_count": 30,
   "metadata": {
    "executionInfo": {
     "elapsed": 996,
     "status": "ok",
     "timestamp": 1609854567262,
     "user": {
      "displayName": "献竤黃",
      "photoUrl": "",
      "userId": "07529243043474362942"
     },
     "user_tz": -480
    },
    "id": "mXjDzvSrbLlf"
   },
   "outputs": [
    {
     "name": "stdout",
     "output_type": "stream",
     "text": [
      "補考後數學平均 = 64.66666666666667\n",
      "補考後數學最大值 = 85\n",
      "補考後數學最小值 = 55\n",
      "補考後數學標準差 = 9.860132971832694\n"
     ]
    }
   ],
   "source": [
    "#2. 第五位同學補考數學後成績為55，請計算補考後數學成績平均、最大值、最小值、標準差?\n",
    "math_score_change = np.array([60,85,60,68,55,60])\n",
    "math_mean_change = np.nanmean(math_score_change)\n",
    "print(\"補考後數學平均 =\", math_mean_change)\n",
    "math_max_change = np.nanmax(math_score_change)\n",
    "print(\"補考後數學最大值 =\", math_max_change)\n",
    "math_min_change = np.nanmin(math_score_change)\n",
    "print(\"補考後數學最小值 =\", math_min_change)\n",
    "math_std_change = np.nanstd(math_score_change)\n",
    "print(\"補考後數學標準差 =\", math_std_change)"
   ]
  },
  {
   "cell_type": "code",
   "execution_count": 37,
   "metadata": {
    "executionInfo": {
     "elapsed": 989,
     "status": "ok",
     "timestamp": 1609854567264,
     "user": {
      "displayName": "献竤黃",
      "photoUrl": "",
      "userId": "07529243043474362942"
     },
     "user_tz": -480
    },
    "id": "SaGolKx0cKoU"
   },
   "outputs": [
    {
     "data": {
      "text/plain": [
       "array([[1.        , 0.97792828],\n",
       "       [0.97792828, 1.        ]])"
      ]
     },
     "execution_count": 37,
     "metadata": {},
     "output_type": "execute_result"
    }
   ],
   "source": [
    "#3. 用補考後資料找出與國文成績相關係數最高的學科?\n",
    "# 國文與英文的相關係數\n",
    "ch_en_co = np.corrcoef(english_score, chinese_score, rowvar=True)\n",
    "ch_en_co"
   ]
  },
  {
   "cell_type": "code",
   "execution_count": 38,
   "metadata": {
    "executionInfo": {
     "elapsed": 987,
     "status": "ok",
     "timestamp": 1609854567264,
     "user": {
      "displayName": "献竤黃",
      "photoUrl": "",
      "userId": "07529243043474362942"
     },
     "user_tz": -480
    },
    "id": "fTNlLZ9Pzyiy"
   },
   "outputs": [
    {
     "data": {
      "text/plain": [
       "array([[1.        , 0.74056803],\n",
       "       [0.74056803, 1.        ]])"
      ]
     },
     "execution_count": 38,
     "metadata": {},
     "output_type": "execute_result"
    }
   ],
   "source": [
    "# 國文與數學的相關係數\n",
    "ch_ma_co = np.corrcoef(math_score_change, chinese_score, rowvar=True)\n",
    "ch_ma_co"
   ]
  },
  {
   "cell_type": "code",
   "execution_count": null,
   "metadata": {},
   "outputs": [],
   "source": [
    "print(\"因為 0.97792828>0.74056803，所以國文和英文的相關係數較高，關聯性較高\")"
   ]
  }
 ],
 "metadata": {
  "colab": {
   "authorship_tag": "ABX9TyPtywwDR7TsGGEOMGYLDT5h",
   "collapsed_sections": [],
   "name": "作業Hong題目.ipynb",
   "provenance": []
  },
  "kernelspec": {
   "display_name": "Python 3",
   "language": "python",
   "name": "python3"
  },
  "language_info": {
   "codemirror_mode": {
    "name": "ipython",
    "version": 3
   },
   "file_extension": ".py",
   "mimetype": "text/x-python",
   "name": "python",
   "nbconvert_exporter": "python",
   "pygments_lexer": "ipython3",
   "version": "3.8.5"
  }
 },
 "nbformat": 4,
 "nbformat_minor": 1
}
